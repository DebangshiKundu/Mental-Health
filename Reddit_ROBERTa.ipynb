{
  "nbformat": 4,
  "nbformat_minor": 0,
  "metadata": {
    "colab": {
      "provenance": [],
      "gpuType": "T4"
    },
    "kernelspec": {
      "name": "python3",
      "display_name": "Python 3"
    },
    "language_info": {
      "name": "python"
    },
    "accelerator": "GPU"
  },
  "cells": [
    {
      "cell_type": "code",
      "execution_count": null,
      "metadata": {
        "id": "28HNrTtBHLtc"
      },
      "outputs": [],
      "source": [
        "import pandas as pd\n",
        "df = pd.read_csv(\"reddit_dataset.csv\")"
      ]
    },
    {
      "cell_type": "code",
      "source": [
        "print(df[\"target\"].value_counts())"
      ],
      "metadata": {
        "colab": {
          "base_uri": "https://localhost:8080/"
        },
        "id": "LOsxInWnHxuK",
        "outputId": "5de66bc1-8c26-4703-a8f0-37d2ac95ed0f"
      },
      "execution_count": null,
      "outputs": [
        {
          "output_type": "stream",
          "name": "stdout",
          "text": [
            "target\n",
            "1    1199\n",
            "4    1142\n",
            "2    1085\n",
            "3    1072\n",
            "0    1058\n",
            "Name: count, dtype: int64\n"
          ]
        }
      ]
    },
    {
      "cell_type": "code",
      "source": [
        "df.isnull().sum()"
      ],
      "metadata": {
        "colab": {
          "base_uri": "https://localhost:8080/",
          "height": 241
        },
        "id": "Fg8cRvTfH1o6",
        "outputId": "9637c1a3-5c63-40c3-97d9-edd1643b3c8b"
      },
      "execution_count": null,
      "outputs": [
        {
          "output_type": "execute_result",
          "data": {
            "text/plain": [
              "text            0\n",
              "title           0\n",
              "target          0\n",
              "cleaned_text    0\n",
              "sentiment       0\n",
              "dtype: int64"
            ],
            "text/html": [
              "<div>\n",
              "<style scoped>\n",
              "    .dataframe tbody tr th:only-of-type {\n",
              "        vertical-align: middle;\n",
              "    }\n",
              "\n",
              "    .dataframe tbody tr th {\n",
              "        vertical-align: top;\n",
              "    }\n",
              "\n",
              "    .dataframe thead th {\n",
              "        text-align: right;\n",
              "    }\n",
              "</style>\n",
              "<table border=\"1\" class=\"dataframe\">\n",
              "  <thead>\n",
              "    <tr style=\"text-align: right;\">\n",
              "      <th></th>\n",
              "      <th>0</th>\n",
              "    </tr>\n",
              "  </thead>\n",
              "  <tbody>\n",
              "    <tr>\n",
              "      <th>text</th>\n",
              "      <td>0</td>\n",
              "    </tr>\n",
              "    <tr>\n",
              "      <th>title</th>\n",
              "      <td>0</td>\n",
              "    </tr>\n",
              "    <tr>\n",
              "      <th>target</th>\n",
              "      <td>0</td>\n",
              "    </tr>\n",
              "    <tr>\n",
              "      <th>cleaned_text</th>\n",
              "      <td>0</td>\n",
              "    </tr>\n",
              "    <tr>\n",
              "      <th>sentiment</th>\n",
              "      <td>0</td>\n",
              "    </tr>\n",
              "  </tbody>\n",
              "</table>\n",
              "</div><br><label><b>dtype:</b> int64</label>"
            ]
          },
          "metadata": {},
          "execution_count": 5
        }
      ]
    },
    {
      "cell_type": "code",
      "source": [
        "df = df.dropna(subset=[\"cleaned_text\"]).reset_index(drop=True)"
      ],
      "metadata": {
        "id": "8pn9oZOsH30e"
      },
      "execution_count": null,
      "outputs": []
    },
    {
      "cell_type": "code",
      "source": [
        "import tensorflow as tf\n",
        "from transformers import BertTokenizer, TFBertForSequenceClassification\n",
        "from sklearn.model_selection import train_test_split\n",
        "import pandas as pd\n",
        "import numpy as np"
      ],
      "metadata": {
        "id": "wO5t8A_NH802"
      },
      "execution_count": null,
      "outputs": []
    },
    {
      "cell_type": "code",
      "source": [
        "train_texts, temp_texts, train_labels, temp_labels = train_test_split(df[\"title\"].tolist(), df[\"target\"].tolist(), test_size=0.3, random_state=42)\n",
        "val_texts, test_texts, val_labels, test_labels = train_test_split(temp_texts, temp_labels, test_size=0.5, random_state=42)"
      ],
      "metadata": {
        "id": "XOCso7TVILHL"
      },
      "execution_count": null,
      "outputs": []
    },
    {
      "cell_type": "code",
      "source": [
        "from transformers import RobertaTokenizer, TFRobertaForSequenceClassification\n",
        "tokenizer = RobertaTokenizer.from_pretrained(\"roberta-base\")\n",
        "model = TFRobertaForSequenceClassification.from_pretrained(\"roberta-base\", num_labels=len(df['target'].unique()))\n"
      ],
      "metadata": {
        "colab": {
          "base_uri": "https://localhost:8080/"
        },
        "id": "blD6_D29IgNe",
        "outputId": "ad64f4ec-67a6-4b85-f218-4a50f7e5af8e"
      },
      "execution_count": null,
      "outputs": [
        {
          "output_type": "stream",
          "name": "stderr",
          "text": [
            "Some weights of the PyTorch model were not used when initializing the TF 2.0 model TFRobertaForSequenceClassification: ['roberta.embeddings.position_ids']\n",
            "- This IS expected if you are initializing TFRobertaForSequenceClassification from a PyTorch model trained on another task or with another architecture (e.g. initializing a TFBertForSequenceClassification model from a BertForPreTraining model).\n",
            "- This IS NOT expected if you are initializing TFRobertaForSequenceClassification from a PyTorch model that you expect to be exactly identical (e.g. initializing a TFBertForSequenceClassification model from a BertForSequenceClassification model).\n",
            "Some weights or buffers of the TF 2.0 model TFRobertaForSequenceClassification were not initialized from the PyTorch model and are newly initialized: ['classifier.dense.weight', 'classifier.dense.bias', 'classifier.out_proj.weight', 'classifier.out_proj.bias']\n",
            "You should probably TRAIN this model on a down-stream task to be able to use it for predictions and inference.\n"
          ]
        }
      ]
    },
    {
      "cell_type": "code",
      "source": [
        "train_encodings = tokenizer(train_texts, truncation=True, padding=True, max_length=128)\n",
        "val_encodings = tokenizer(val_texts, truncation=True, padding=True, max_length=128)\n",
        "test_encodings = tokenizer(test_texts, truncation=True, padding=True, max_length=128)\n"
      ],
      "metadata": {
        "id": "Uy5F-mbMIiSA"
      },
      "execution_count": null,
      "outputs": []
    },
    {
      "cell_type": "code",
      "source": [
        "train_dataset = tf.data.Dataset.from_tensor_slices((dict(train_encodings), np.array(train_labels))).batch(8)\n",
        "val_dataset = tf.data.Dataset.from_tensor_slices((dict(val_encodings), np.array(val_labels))).batch(8)\n",
        "test_dataset = tf.data.Dataset.from_tensor_slices((dict(test_encodings), np.array(test_labels))).batch(8)\n"
      ],
      "metadata": {
        "id": "R2o4LIeTIkxW"
      },
      "execution_count": null,
      "outputs": []
    },
    {
      "cell_type": "code",
      "source": [
        "model.compile(\n",
        "    optimizer=tf.keras.optimizers.Adam(learning_rate=2e-5),\n",
        "    loss=tf.keras.losses.SparseCategoricalCrossentropy(from_logits=True),\n",
        "    metrics=[\"accuracy\"]\n",
        ")"
      ],
      "metadata": {
        "id": "MylLOFTLJIGb"
      },
      "execution_count": null,
      "outputs": []
    },
    {
      "cell_type": "code",
      "source": [
        "model.fit(train_dataset, validation_data=val_dataset, epochs=10)"
      ],
      "metadata": {
        "colab": {
          "base_uri": "https://localhost:8080/"
        },
        "id": "O2koTJunJLyG",
        "outputId": "af3779fe-2bab-4cbf-aaaf-f4eec5a7be90"
      },
      "execution_count": null,
      "outputs": [
        {
          "output_type": "stream",
          "name": "stdout",
          "text": [
            "Epoch 1/10\n",
            "487/487 [==============================] - 123s 173ms/step - loss: 1.2978 - accuracy: 0.4598 - val_loss: 0.9866 - val_accuracy: 0.6327\n",
            "Epoch 2/10\n",
            "487/487 [==============================] - 74s 152ms/step - loss: 0.8870 - accuracy: 0.6765 - val_loss: 0.9512 - val_accuracy: 0.6663\n",
            "Epoch 3/10\n",
            "487/487 [==============================] - 74s 153ms/step - loss: 0.6258 - accuracy: 0.7825 - val_loss: 0.9704 - val_accuracy: 0.7035\n",
            "Epoch 4/10\n",
            "487/487 [==============================] - 74s 152ms/step - loss: 0.4254 - accuracy: 0.8609 - val_loss: 1.0921 - val_accuracy: 0.6975\n",
            "Epoch 5/10\n",
            "487/487 [==============================] - 74s 152ms/step - loss: 0.3080 - accuracy: 0.9013 - val_loss: 1.2119 - val_accuracy: 0.7047\n",
            "Epoch 6/10\n",
            "487/487 [==============================] - 74s 151ms/step - loss: 0.2186 - accuracy: 0.9290 - val_loss: 1.2978 - val_accuracy: 0.7011\n",
            "Epoch 7/10\n",
            "487/487 [==============================] - 75s 153ms/step - loss: 0.1588 - accuracy: 0.9501 - val_loss: 1.3364 - val_accuracy: 0.7095\n",
            "Epoch 8/10\n",
            "487/487 [==============================] - 74s 151ms/step - loss: 0.1479 - accuracy: 0.9524 - val_loss: 1.3734 - val_accuracy: 0.7035\n",
            "Epoch 9/10\n",
            "487/487 [==============================] - 74s 153ms/step - loss: 0.1122 - accuracy: 0.9671 - val_loss: 1.4910 - val_accuracy: 0.6939\n",
            "Epoch 10/10\n",
            "487/487 [==============================] - 74s 152ms/step - loss: 0.1108 - accuracy: 0.9640 - val_loss: 1.4438 - val_accuracy: 0.7059\n"
          ]
        },
        {
          "output_type": "execute_result",
          "data": {
            "text/plain": [
              "<tf_keras.src.callbacks.History at 0x7e77ce852b90>"
            ]
          },
          "metadata": {},
          "execution_count": 20
        }
      ]
    },
    {
      "cell_type": "code",
      "source": [
        "test_loss, test_acc = model.evaluate(test_dataset)\n",
        "print(f\"Test Accuracy: {test_acc}%\")"
      ],
      "metadata": {
        "colab": {
          "base_uri": "https://localhost:8080/"
        },
        "id": "SYxWfggdlO1w",
        "outputId": "3f2c0a3b-375a-473b-9121-dbfe2778af94"
      },
      "execution_count": null,
      "outputs": [
        {
          "output_type": "stream",
          "name": "stdout",
          "text": [
            "105/105 [==============================] - 7s 44ms/step - loss: 1.4818 - accuracy: 0.7098\n",
            "Test Accuracy: 0.7098321318626404%\n"
          ]
        }
      ]
    },
    {
      "cell_type": "code",
      "source": [
        "test_loss, test_acc = model.evaluate(test_dataset)\n",
        "print(f\"Test Accuracy: {test_acc}%\")"
      ],
      "metadata": {
        "colab": {
          "base_uri": "https://localhost:8080/"
        },
        "id": "M7jxKIUcJO6K",
        "outputId": "48ac81b8-c809-4bb7-ee69-dfb50a0f0d50"
      },
      "execution_count": null,
      "outputs": [
        {
          "output_type": "stream",
          "name": "stdout",
          "text": [
            "105/105 [==============================] - 9s 81ms/step - loss: 0.9803 - accuracy: 0.7734\n",
            "Test Accuracy: 0.7733812928199768%\n"
          ]
        }
      ]
    },
    {
      "cell_type": "code",
      "source": [],
      "metadata": {
        "id": "Wf_h-OrQJWWw"
      },
      "execution_count": null,
      "outputs": []
    }
  ]
}